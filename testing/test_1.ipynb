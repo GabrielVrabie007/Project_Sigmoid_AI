{
 "cells": [
  {
   "cell_type": "code",
   "execution_count": 3,
   "metadata": {},
   "outputs": [],
   "source": [
    "from fastapi import FastAPI\n",
    "from database_handler import DatabaseHandler\n",
    "from fraud_detector import FraudDetector\n",
    "from data_loader import DataLoader\n",
    "from analysis.preprocess_data import preprocess_transaction\n",
    "import joblib"
   ]
  },
  {
   "cell_type": "code",
   "execution_count": 11,
   "metadata": {},
   "outputs": [],
   "source": [
    "app = FastAPI()\n",
    "data_loader = DataLoader(\"transactions.db\")\n",
    "db_handler = DatabaseHandler(\"transactions.db\")\n",
    "\n",
    "data_loader.load_csv_to_db(\"analysis/fraudTest.csv\")\n",
    "\n",
    "fraud_detector = FraudDetector(\"analysis/fraud_detection_model.pkl\", \"analysis/scaler.pkl\")"
   ]
  },
  {
   "cell_type": "code",
   "execution_count": 16,
   "metadata": {},
   "outputs": [
    {
     "name": "stdout",
     "output_type": "stream",
     "text": [
      "Transaction: ('fraud_Kirlin and Sons', 'personal_care', 2.86, 'M', 33.9659, -80.9355, 333497, 'Mechanical engineer', 1371816865, 33.986391, -81.200714)\n"
     ]
    }
   ],
   "source": [
    "transaction = db_handler.get_next_transaction()\n",
    "        \n",
    "print(f\"Transaction: {transaction}\")"
   ]
  },
  {
   "cell_type": "code",
   "execution_count": 17,
   "metadata": {},
   "outputs": [
    {
     "data": {
      "text/plain": [
       "array([ 0.00000000e+00,  0.00000000e+00,  2.86000000e+00,  0.00000000e+00,\n",
       "        3.39659000e+01, -8.09355000e+01,  3.33497000e+05,  0.00000000e+00,\n",
       "        1.37181686e+09,  3.39863910e+01, -8.12007140e+01])"
      ]
     },
     "execution_count": 17,
     "metadata": {},
     "output_type": "execute_result"
    }
   ],
   "source": [
    "transaction_data = preprocess_transaction(transaction)\n",
    "transaction_data"
   ]
  },
  {
   "cell_type": "code",
   "execution_count": 7,
   "metadata": {},
   "outputs": [
    {
     "data": {
      "text/plain": [
       "array([[ 0.00000000e+00,  0.00000000e+00,  2.86000000e+00,\n",
       "         0.00000000e+00,  3.39659000e+01, -8.09355000e+01,\n",
       "         3.33497000e+05,  0.00000000e+00,  1.37181686e+09,\n",
       "         3.39863910e+01, -8.12007140e+01]])"
      ]
     },
     "execution_count": 7,
     "metadata": {},
     "output_type": "execute_result"
    }
   ],
   "source": [
    "import numpy as np\n",
    "transaction_data = np.array(transaction_data, dtype=float)  # Conversie la array de tip float\n",
    "transaction_data = transaction_data.reshape(1, -1) \n",
    "transaction_data"
   ]
  },
  {
   "cell_type": "code",
   "execution_count": 18,
   "metadata": {},
   "outputs": [
    {
     "ename": "TypeError",
     "evalue": "unhashable type: 'numpy.ndarray'",
     "output_type": "error",
     "traceback": [
      "\u001b[1;31m---------------------------------------------------------------------------\u001b[0m",
      "\u001b[1;31mTypeError\u001b[0m                                 Traceback (most recent call last)",
      "Cell \u001b[1;32mIn[18], line 1\u001b[0m\n\u001b[1;32m----> 1\u001b[0m is_fraud \u001b[38;5;241m=\u001b[39m \u001b[43mfraud_detector\u001b[49m\u001b[38;5;241;43m.\u001b[39;49m\u001b[43mis_fraudulent\u001b[49m\u001b[43m(\u001b[49m\u001b[43mtransaction_data\u001b[49m\u001b[43m)\u001b[49m\n",
      "File \u001b[1;32md:\\Machine_Learning\\Project_Sigmoid\\fraud_detector.py:11\u001b[0m, in \u001b[0;36mFraudDetector.is_fraudulent\u001b[1;34m(self, transaction_data)\u001b[0m\n\u001b[0;32m      9\u001b[0m \u001b[38;5;28;01mdef\u001b[39;00m \u001b[38;5;21mis_fraudulent\u001b[39m(\u001b[38;5;28mself\u001b[39m, transaction_data):\n\u001b[1;32m---> 11\u001b[0m     scaled_data \u001b[38;5;241m=\u001b[39m \u001b[38;5;28;43mself\u001b[39;49m\u001b[38;5;241;43m.\u001b[39;49m\u001b[43mscaler\u001b[49m\u001b[38;5;241;43m.\u001b[39;49m\u001b[43mtransform\u001b[49m\u001b[43m(\u001b[49m\u001b[43m[\u001b[49m\u001b[43mtransaction_data\u001b[49m\u001b[43m]\u001b[49m\u001b[43m)\u001b[49m\n\u001b[0;32m     13\u001b[0m     prediction \u001b[38;5;241m=\u001b[39m \u001b[38;5;28mself\u001b[39m\u001b[38;5;241m.\u001b[39mmodel\u001b[38;5;241m.\u001b[39mpredict(scaled_data)\n\u001b[0;32m     15\u001b[0m     \u001b[38;5;28;01mreturn\u001b[39;00m prediction[\u001b[38;5;241m0\u001b[39m] \u001b[38;5;241m==\u001b[39m \u001b[38;5;241m1\u001b[39m\n",
      "File \u001b[1;32md:\\Machine_Learning\\Project_Sigmoid\\.venv\\Lib\\site-packages\\pandas\\core\\frame.py:10165\u001b[0m, in \u001b[0;36mDataFrame.transform\u001b[1;34m(self, func, axis, *args, **kwargs)\u001b[0m\n\u001b[0;32m  10155\u001b[0m \u001b[38;5;129m@doc\u001b[39m(\n\u001b[0;32m  10156\u001b[0m     _shared_docs[\u001b[38;5;124m\"\u001b[39m\u001b[38;5;124mtransform\u001b[39m\u001b[38;5;124m\"\u001b[39m],\n\u001b[0;32m  10157\u001b[0m     klass\u001b[38;5;241m=\u001b[39m_shared_doc_kwargs[\u001b[38;5;124m\"\u001b[39m\u001b[38;5;124mklass\u001b[39m\u001b[38;5;124m\"\u001b[39m],\n\u001b[1;32m   (...)\u001b[0m\n\u001b[0;32m  10161\u001b[0m     \u001b[38;5;28mself\u001b[39m, func: AggFuncType, axis: Axis \u001b[38;5;241m=\u001b[39m \u001b[38;5;241m0\u001b[39m, \u001b[38;5;241m*\u001b[39margs, \u001b[38;5;241m*\u001b[39m\u001b[38;5;241m*\u001b[39mkwargs\n\u001b[0;32m  10162\u001b[0m ) \u001b[38;5;241m-\u001b[39m\u001b[38;5;241m>\u001b[39m DataFrame:\n\u001b[0;32m  10163\u001b[0m     \u001b[38;5;28;01mfrom\u001b[39;00m \u001b[38;5;21;01mpandas\u001b[39;00m\u001b[38;5;21;01m.\u001b[39;00m\u001b[38;5;21;01mcore\u001b[39;00m\u001b[38;5;21;01m.\u001b[39;00m\u001b[38;5;21;01mapply\u001b[39;00m \u001b[38;5;28;01mimport\u001b[39;00m frame_apply\n\u001b[1;32m> 10165\u001b[0m     op \u001b[38;5;241m=\u001b[39m \u001b[43mframe_apply\u001b[49m\u001b[43m(\u001b[49m\u001b[38;5;28;43mself\u001b[39;49m\u001b[43m,\u001b[49m\u001b[43m \u001b[49m\u001b[43mfunc\u001b[49m\u001b[38;5;241;43m=\u001b[39;49m\u001b[43mfunc\u001b[49m\u001b[43m,\u001b[49m\u001b[43m \u001b[49m\u001b[43maxis\u001b[49m\u001b[38;5;241;43m=\u001b[39;49m\u001b[43maxis\u001b[49m\u001b[43m,\u001b[49m\u001b[43m \u001b[49m\u001b[43margs\u001b[49m\u001b[38;5;241;43m=\u001b[39;49m\u001b[43margs\u001b[49m\u001b[43m,\u001b[49m\u001b[43m \u001b[49m\u001b[43mkwargs\u001b[49m\u001b[38;5;241;43m=\u001b[39;49m\u001b[43mkwargs\u001b[49m\u001b[43m)\u001b[49m\n\u001b[0;32m  10166\u001b[0m     result \u001b[38;5;241m=\u001b[39m op\u001b[38;5;241m.\u001b[39mtransform()\n\u001b[0;32m  10167\u001b[0m     \u001b[38;5;28;01massert\u001b[39;00m \u001b[38;5;28misinstance\u001b[39m(result, DataFrame)\n",
      "File \u001b[1;32md:\\Machine_Learning\\Project_Sigmoid\\.venv\\Lib\\site-packages\\pandas\\core\\apply.py:102\u001b[0m, in \u001b[0;36mframe_apply\u001b[1;34m(obj, func, axis, raw, result_type, by_row, engine, engine_kwargs, args, kwargs)\u001b[0m\n\u001b[0;32m     99\u001b[0m \u001b[38;5;28;01melif\u001b[39;00m axis \u001b[38;5;241m==\u001b[39m \u001b[38;5;241m1\u001b[39m:\n\u001b[0;32m    100\u001b[0m     klass \u001b[38;5;241m=\u001b[39m FrameColumnApply\n\u001b[1;32m--> 102\u001b[0m _, func, _, _ \u001b[38;5;241m=\u001b[39m \u001b[43mreconstruct_func\u001b[49m\u001b[43m(\u001b[49m\u001b[43mfunc\u001b[49m\u001b[43m,\u001b[49m\u001b[43m \u001b[49m\u001b[38;5;241;43m*\u001b[39;49m\u001b[38;5;241;43m*\u001b[39;49m\u001b[43mkwargs\u001b[49m\u001b[43m)\u001b[49m\n\u001b[0;32m    103\u001b[0m \u001b[38;5;28;01massert\u001b[39;00m func \u001b[38;5;129;01mis\u001b[39;00m \u001b[38;5;129;01mnot\u001b[39;00m \u001b[38;5;28;01mNone\u001b[39;00m\n\u001b[0;32m    105\u001b[0m \u001b[38;5;28;01mreturn\u001b[39;00m klass(\n\u001b[0;32m    106\u001b[0m     obj,\n\u001b[0;32m    107\u001b[0m     func,\n\u001b[1;32m   (...)\u001b[0m\n\u001b[0;32m    114\u001b[0m     kwargs\u001b[38;5;241m=\u001b[39mkwargs,\n\u001b[0;32m    115\u001b[0m )\n",
      "File \u001b[1;32md:\\Machine_Learning\\Project_Sigmoid\\.venv\\Lib\\site-packages\\pandas\\core\\apply.py:1687\u001b[0m, in \u001b[0;36mreconstruct_func\u001b[1;34m(func, **kwargs)\u001b[0m\n\u001b[0;32m   1684\u001b[0m order: npt\u001b[38;5;241m.\u001b[39mNDArray[np\u001b[38;5;241m.\u001b[39mintp] \u001b[38;5;241m|\u001b[39m \u001b[38;5;28;01mNone\u001b[39;00m \u001b[38;5;241m=\u001b[39m \u001b[38;5;28;01mNone\u001b[39;00m\n\u001b[0;32m   1686\u001b[0m \u001b[38;5;28;01mif\u001b[39;00m \u001b[38;5;129;01mnot\u001b[39;00m relabeling:\n\u001b[1;32m-> 1687\u001b[0m     \u001b[38;5;28;01mif\u001b[39;00m \u001b[38;5;28misinstance\u001b[39m(func, \u001b[38;5;28mlist\u001b[39m) \u001b[38;5;129;01mand\u001b[39;00m \u001b[38;5;28mlen\u001b[39m(func) \u001b[38;5;241m>\u001b[39m \u001b[38;5;28mlen\u001b[39m(\u001b[38;5;28;43mset\u001b[39;49m\u001b[43m(\u001b[49m\u001b[43mfunc\u001b[49m\u001b[43m)\u001b[49m):\n\u001b[0;32m   1688\u001b[0m         \u001b[38;5;66;03m# GH 28426 will raise error if duplicated function names are used and\u001b[39;00m\n\u001b[0;32m   1689\u001b[0m         \u001b[38;5;66;03m# there is no reassigned name\u001b[39;00m\n\u001b[0;32m   1690\u001b[0m         \u001b[38;5;28;01mraise\u001b[39;00m SpecificationError(\n\u001b[0;32m   1691\u001b[0m             \u001b[38;5;124m\"\u001b[39m\u001b[38;5;124mFunction names must be unique if there is no new column names \u001b[39m\u001b[38;5;124m\"\u001b[39m\n\u001b[0;32m   1692\u001b[0m             \u001b[38;5;124m\"\u001b[39m\u001b[38;5;124massigned\u001b[39m\u001b[38;5;124m\"\u001b[39m\n\u001b[0;32m   1693\u001b[0m         )\n\u001b[0;32m   1694\u001b[0m     \u001b[38;5;28;01mif\u001b[39;00m func \u001b[38;5;129;01mis\u001b[39;00m \u001b[38;5;28;01mNone\u001b[39;00m:\n\u001b[0;32m   1695\u001b[0m         \u001b[38;5;66;03m# nicer error message\u001b[39;00m\n",
      "\u001b[1;31mTypeError\u001b[0m: unhashable type: 'numpy.ndarray'"
     ]
    }
   ],
   "source": [
    "is_fraud = fraud_detector.is_fraudulent(transaction_data)"
   ]
  },
  {
   "cell_type": "code",
   "execution_count": 15,
   "metadata": {},
   "outputs": [
    {
     "ename": "NameError",
     "evalue": "name 'is_fraud' is not defined",
     "output_type": "error",
     "traceback": [
      "\u001b[1;31m---------------------------------------------------------------------------\u001b[0m",
      "\u001b[1;31mNameError\u001b[0m                                 Traceback (most recent call last)",
      "Cell \u001b[1;32mIn[15], line 1\u001b[0m\n\u001b[1;32m----> 1\u001b[0m db_handler\u001b[38;5;241m.\u001b[39mupdate_transaction(transaction[\u001b[38;5;241m0\u001b[39m], \u001b[43mis_fraud\u001b[49m)\n\u001b[0;32m      3\u001b[0m \u001b[38;5;28mprint\u001b[39m( {\u001b[38;5;124m\"\u001b[39m\u001b[38;5;124mtransaction_id\u001b[39m\u001b[38;5;124m\"\u001b[39m: transaction[\u001b[38;5;241m0\u001b[39m], \u001b[38;5;124m\"\u001b[39m\u001b[38;5;124mis_fraud\u001b[39m\u001b[38;5;124m\"\u001b[39m: is_fraud})\n",
      "\u001b[1;31mNameError\u001b[0m: name 'is_fraud' is not defined"
     ]
    }
   ],
   "source": [
    "db_handler.update_transaction(transaction[0], is_fraud)\n",
    "\n",
    "print( {\"transaction_id\": transaction[0], \"is_fraud\": is_fraud})"
   ]
  }
 ],
 "metadata": {
  "kernelspec": {
   "display_name": ".venv",
   "language": "python",
   "name": "python3"
  },
  "language_info": {
   "codemirror_mode": {
    "name": "ipython",
    "version": 3
   },
   "file_extension": ".py",
   "mimetype": "text/x-python",
   "name": "python",
   "nbconvert_exporter": "python",
   "pygments_lexer": "ipython3",
   "version": "3.11.8"
  }
 },
 "nbformat": 4,
 "nbformat_minor": 2
}

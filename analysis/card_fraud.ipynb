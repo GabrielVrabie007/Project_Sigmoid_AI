{
 "cells": [
  {
   "cell_type": "code",
   "execution_count": 1,
   "metadata": {},
   "outputs": [],
   "source": [
    "import pandas as pd\n",
    "import numpy as np\n",
    "import datetime\n",
    "import matplotlib.pyplot as plt\n",
    "from sklearn.preprocessing import LabelEncoder, StandardScaler\n",
    "from sklearn.model_selection import train_test_split\n",
    "from sklearn.linear_model import LogisticRegression\n",
    "from sklearn.tree import DecisionTreeClassifier\n",
    "from xgboost import XGBClassifier\n",
    "from sklearn.metrics import classification_report, roc_auc_score, confusion_matrix, ConfusionMatrixDisplay"
   ]
  },
  {
   "cell_type": "markdown",
   "metadata": {},
   "source": [
    "### Analyze Data"
   ]
  },
  {
   "cell_type": "code",
   "execution_count": 12,
   "metadata": {},
   "outputs": [],
   "source": [
    "train_data=pd.read_csv('fraudTest.csv')"
   ]
  },
  {
   "cell_type": "code",
   "execution_count": 13,
   "metadata": {},
   "outputs": [
    {
     "name": "stdout",
     "output_type": "stream",
     "text": [
      "<class 'pandas.core.frame.DataFrame'>\n",
      "RangeIndex: 555719 entries, 0 to 555718\n",
      "Data columns (total 23 columns):\n",
      " #   Column                 Non-Null Count   Dtype  \n",
      "---  ------                 --------------   -----  \n",
      " 0   Unnamed: 0             555719 non-null  int64  \n",
      " 1   trans_date_trans_time  555719 non-null  object \n",
      " 2   cc_num                 555719 non-null  int64  \n",
      " 3   merchant               555719 non-null  object \n",
      " 4   category               555719 non-null  object \n",
      " 5   amt                    555719 non-null  float64\n",
      " 6   first                  555719 non-null  object \n",
      " 7   last                   555719 non-null  object \n",
      " 8   gender                 555719 non-null  object \n",
      " 9   street                 555719 non-null  object \n",
      " 10  city                   555719 non-null  object \n",
      " 11  state                  555719 non-null  object \n",
      " 12  zip                    555719 non-null  int64  \n",
      " 13  lat                    555719 non-null  float64\n",
      " 14  long                   555719 non-null  float64\n",
      " 15  city_pop               555719 non-null  int64  \n",
      " 16  job                    555719 non-null  object \n",
      " 17  dob                    555719 non-null  object \n",
      " 18  trans_num              555719 non-null  object \n",
      " 19  unix_time              555719 non-null  int64  \n",
      " 20  merch_lat              555719 non-null  float64\n",
      " 21  merch_long             555719 non-null  float64\n",
      " 22  is_fraud               555719 non-null  int64  \n",
      "dtypes: float64(5), int64(6), object(12)\n",
      "memory usage: 97.5+ MB\n"
     ]
    }
   ],
   "source": [
    "train_data.info()"
   ]
  },
  {
   "cell_type": "code",
   "execution_count": 14,
   "metadata": {},
   "outputs": [
    {
     "data": {
      "text/html": [
       "<div>\n",
       "<style scoped>\n",
       "    .dataframe tbody tr th:only-of-type {\n",
       "        vertical-align: middle;\n",
       "    }\n",
       "\n",
       "    .dataframe tbody tr th {\n",
       "        vertical-align: top;\n",
       "    }\n",
       "\n",
       "    .dataframe thead th {\n",
       "        text-align: right;\n",
       "    }\n",
       "</style>\n",
       "<table border=\"1\" class=\"dataframe\">\n",
       "  <thead>\n",
       "    <tr style=\"text-align: right;\">\n",
       "      <th></th>\n",
       "      <th>Unnamed: 0</th>\n",
       "      <th>cc_num</th>\n",
       "      <th>amt</th>\n",
       "      <th>zip</th>\n",
       "      <th>lat</th>\n",
       "      <th>long</th>\n",
       "      <th>city_pop</th>\n",
       "      <th>unix_time</th>\n",
       "      <th>merch_lat</th>\n",
       "      <th>merch_long</th>\n",
       "      <th>is_fraud</th>\n",
       "    </tr>\n",
       "  </thead>\n",
       "  <tbody>\n",
       "    <tr>\n",
       "      <th>count</th>\n",
       "      <td>555719.000000</td>\n",
       "      <td>5.557190e+05</td>\n",
       "      <td>555719.000000</td>\n",
       "      <td>555719.000000</td>\n",
       "      <td>555719.000000</td>\n",
       "      <td>555719.000000</td>\n",
       "      <td>5.557190e+05</td>\n",
       "      <td>5.557190e+05</td>\n",
       "      <td>555719.000000</td>\n",
       "      <td>555719.000000</td>\n",
       "      <td>555719.000000</td>\n",
       "    </tr>\n",
       "    <tr>\n",
       "      <th>mean</th>\n",
       "      <td>277859.000000</td>\n",
       "      <td>4.178387e+17</td>\n",
       "      <td>69.392810</td>\n",
       "      <td>48842.628015</td>\n",
       "      <td>38.543253</td>\n",
       "      <td>-90.231325</td>\n",
       "      <td>8.822189e+04</td>\n",
       "      <td>1.380679e+09</td>\n",
       "      <td>38.542798</td>\n",
       "      <td>-90.231380</td>\n",
       "      <td>0.003860</td>\n",
       "    </tr>\n",
       "    <tr>\n",
       "      <th>std</th>\n",
       "      <td>160422.401459</td>\n",
       "      <td>1.309837e+18</td>\n",
       "      <td>156.745941</td>\n",
       "      <td>26855.283328</td>\n",
       "      <td>5.061336</td>\n",
       "      <td>13.721780</td>\n",
       "      <td>3.003909e+05</td>\n",
       "      <td>5.201104e+06</td>\n",
       "      <td>5.095829</td>\n",
       "      <td>13.733071</td>\n",
       "      <td>0.062008</td>\n",
       "    </tr>\n",
       "    <tr>\n",
       "      <th>min</th>\n",
       "      <td>0.000000</td>\n",
       "      <td>6.041621e+10</td>\n",
       "      <td>1.000000</td>\n",
       "      <td>1257.000000</td>\n",
       "      <td>20.027100</td>\n",
       "      <td>-165.672300</td>\n",
       "      <td>2.300000e+01</td>\n",
       "      <td>1.371817e+09</td>\n",
       "      <td>19.027422</td>\n",
       "      <td>-166.671575</td>\n",
       "      <td>0.000000</td>\n",
       "    </tr>\n",
       "    <tr>\n",
       "      <th>25%</th>\n",
       "      <td>138929.500000</td>\n",
       "      <td>1.800429e+14</td>\n",
       "      <td>9.630000</td>\n",
       "      <td>26292.000000</td>\n",
       "      <td>34.668900</td>\n",
       "      <td>-96.798000</td>\n",
       "      <td>7.410000e+02</td>\n",
       "      <td>1.376029e+09</td>\n",
       "      <td>34.755302</td>\n",
       "      <td>-96.905129</td>\n",
       "      <td>0.000000</td>\n",
       "    </tr>\n",
       "    <tr>\n",
       "      <th>50%</th>\n",
       "      <td>277859.000000</td>\n",
       "      <td>3.521417e+15</td>\n",
       "      <td>47.290000</td>\n",
       "      <td>48174.000000</td>\n",
       "      <td>39.371600</td>\n",
       "      <td>-87.476900</td>\n",
       "      <td>2.408000e+03</td>\n",
       "      <td>1.380762e+09</td>\n",
       "      <td>39.376593</td>\n",
       "      <td>-87.445204</td>\n",
       "      <td>0.000000</td>\n",
       "    </tr>\n",
       "    <tr>\n",
       "      <th>75%</th>\n",
       "      <td>416788.500000</td>\n",
       "      <td>4.635331e+15</td>\n",
       "      <td>83.010000</td>\n",
       "      <td>72011.000000</td>\n",
       "      <td>41.894800</td>\n",
       "      <td>-80.175200</td>\n",
       "      <td>1.968500e+04</td>\n",
       "      <td>1.385867e+09</td>\n",
       "      <td>41.954163</td>\n",
       "      <td>-80.264637</td>\n",
       "      <td>0.000000</td>\n",
       "    </tr>\n",
       "    <tr>\n",
       "      <th>max</th>\n",
       "      <td>555718.000000</td>\n",
       "      <td>4.992346e+18</td>\n",
       "      <td>22768.110000</td>\n",
       "      <td>99921.000000</td>\n",
       "      <td>65.689900</td>\n",
       "      <td>-67.950300</td>\n",
       "      <td>2.906700e+06</td>\n",
       "      <td>1.388534e+09</td>\n",
       "      <td>66.679297</td>\n",
       "      <td>-66.952026</td>\n",
       "      <td>1.000000</td>\n",
       "    </tr>\n",
       "  </tbody>\n",
       "</table>\n",
       "</div>"
      ],
      "text/plain": [
       "          Unnamed: 0        cc_num            amt            zip  \\\n",
       "count  555719.000000  5.557190e+05  555719.000000  555719.000000   \n",
       "mean   277859.000000  4.178387e+17      69.392810   48842.628015   \n",
       "std    160422.401459  1.309837e+18     156.745941   26855.283328   \n",
       "min         0.000000  6.041621e+10       1.000000    1257.000000   \n",
       "25%    138929.500000  1.800429e+14       9.630000   26292.000000   \n",
       "50%    277859.000000  3.521417e+15      47.290000   48174.000000   \n",
       "75%    416788.500000  4.635331e+15      83.010000   72011.000000   \n",
       "max    555718.000000  4.992346e+18   22768.110000   99921.000000   \n",
       "\n",
       "                 lat           long      city_pop     unix_time  \\\n",
       "count  555719.000000  555719.000000  5.557190e+05  5.557190e+05   \n",
       "mean       38.543253     -90.231325  8.822189e+04  1.380679e+09   \n",
       "std         5.061336      13.721780  3.003909e+05  5.201104e+06   \n",
       "min        20.027100    -165.672300  2.300000e+01  1.371817e+09   \n",
       "25%        34.668900     -96.798000  7.410000e+02  1.376029e+09   \n",
       "50%        39.371600     -87.476900  2.408000e+03  1.380762e+09   \n",
       "75%        41.894800     -80.175200  1.968500e+04  1.385867e+09   \n",
       "max        65.689900     -67.950300  2.906700e+06  1.388534e+09   \n",
       "\n",
       "           merch_lat     merch_long       is_fraud  \n",
       "count  555719.000000  555719.000000  555719.000000  \n",
       "mean       38.542798     -90.231380       0.003860  \n",
       "std         5.095829      13.733071       0.062008  \n",
       "min        19.027422    -166.671575       0.000000  \n",
       "25%        34.755302     -96.905129       0.000000  \n",
       "50%        39.376593     -87.445204       0.000000  \n",
       "75%        41.954163     -80.264637       0.000000  \n",
       "max        66.679297     -66.952026       1.000000  "
      ]
     },
     "execution_count": 14,
     "metadata": {},
     "output_type": "execute_result"
    }
   ],
   "source": [
    "train_data.describe()"
   ]
  },
  {
   "cell_type": "code",
   "execution_count": 15,
   "metadata": {},
   "outputs": [
    {
     "data": {
      "text/plain": [
       "Index(['Unnamed: 0', 'trans_date_trans_time', 'cc_num', 'merchant', 'category',\n",
       "       'amt', 'first', 'last', 'gender', 'street', 'city', 'state', 'zip',\n",
       "       'lat', 'long', 'city_pop', 'job', 'dob', 'trans_num', 'unix_time',\n",
       "       'merch_lat', 'merch_long', 'is_fraud'],\n",
       "      dtype='object')"
      ]
     },
     "execution_count": 15,
     "metadata": {},
     "output_type": "execute_result"
    }
   ],
   "source": [
    "train_data.columns"
   ]
  },
  {
   "cell_type": "code",
   "execution_count": 16,
   "metadata": {},
   "outputs": [
    {
     "name": "stdout",
     "output_type": "stream",
     "text": [
      "is_fraud\n",
      "0    553574\n",
      "1      2145\n",
      "Name: count, dtype: int64\n"
     ]
    }
   ],
   "source": [
    "#separating data for analysis\n",
    "fraud_counts=train_data['is_fraud'].value_counts()\n",
    "\n",
    "legit_data=train_data[train_data.is_fraud==0]\n",
    "fraud_data=train_data[train_data.is_fraud==1]\n",
    "\n",
    "print(fraud_counts)\n"
   ]
  },
  {
   "cell_type": "code",
   "execution_count": 17,
   "metadata": {},
   "outputs": [
    {
     "data": {
      "image/png": "[encoded data removed]",
      "text/plain": [
       "<Figure size 640x480 with 1 Axes>"
      ]
     },
     "metadata": {},
     "output_type": "display_data"
    }
   ],
   "source": [
    "colors = ['green' if val == 0 else 'red' for val in fraud_counts.index]\n",
    "\n",
    "# Plot the bar chart\n",
    "plt.bar(fraud_counts.index, fraud_counts.values, color=colors)\n",
    "\n",
    "# Customize the chart\n",
    "plt.xticks([0, 1], ['Not Fraud', 'Fraud'])  # Set labels for the x-axis\n",
    "plt.xlabel('Fraud Status')\n",
    "plt.ylabel('Count')\n",
    "plt.title('Fraud vs. Non-Fraud Transactions')\n",
    "plt.show()"
   ]
  },
  {
   "cell_type": "code",
   "execution_count": 18,
   "metadata": {},
   "outputs": [
    {
     "name": "stdout",
     "output_type": "stream",
     "text": [
      "Unnamed: 0               0\n",
      "trans_date_trans_time    0\n",
      "cc_num                   0\n",
      "merchant                 0\n",
      "category                 0\n",
      "amt                      0\n",
      "first                    0\n",
      "last                     0\n",
      "gender                   0\n",
      "street                   0\n",
      "city                     0\n",
      "state                    0\n",
      "zip                      0\n",
      "lat                      0\n",
      "long                     0\n",
      "city_pop                 0\n",
      "job                      0\n",
      "dob                      0\n",
      "trans_num                0\n",
      "unix_time                0\n",
      "merch_lat                0\n",
      "merch_long               0\n",
      "is_fraud                 0\n",
      "dtype: int64\n"
     ]
    }
   ],
   "source": [
    "missing_values = train_data.isnull().sum()\n",
    "print(missing_values)"
   ]
  },
  {
   "cell_type": "markdown",
   "metadata": {},
   "source": [
    "### Balancing Data"
   ]
  },
  {
   "cell_type": "code",
   "execution_count": 32,
   "metadata": {},
   "outputs": [],
   "source": [
    "#legit data represents nr of legal transactions==nr of fraud transactions\n",
    "legit_sample=legit_data.sample(n=2145)"
   ]
  },
  {
   "cell_type": "code",
   "execution_count": 33,
   "metadata": {},
   "outputs": [],
   "source": [
    "balanced_dataset=pd.concat([legit_sample,fraud_data],axis=0)"
   ]
  },
  {
   "cell_type": "code",
   "execution_count": 34,
   "metadata": {},
   "outputs": [
    {
     "data": {
      "text/plain": [
       "is_fraud\n",
       "0    2145\n",
       "1    2145\n",
       "Name: count, dtype: int64"
      ]
     },
     "execution_count": 34,
     "metadata": {},
     "output_type": "execute_result"
    }
   ],
   "source": [
    "balanced_dataset[\"is_fraud\"].value_counts()"
   ]
  },
  {
   "cell_type": "code",
   "execution_count": 35,
   "metadata": {},
   "outputs": [],
   "source": [
    "#Tranform to datetime to can read data as strings\n",
    "\n",
    "balanced_dataset['trans_date_trans_time']=pd.to_datetime(balanced_dataset['trans_date_trans_time'])\n",
    "\n",
    "balanced_dataset[\"dob\"]=pd.to_datetime(balanced_dataset[\"dob\"])"
   ]
  },
  {
   "cell_type": "code",
   "execution_count": 36,
   "metadata": {},
   "outputs": [
    {
     "data": {
      "text/html": [
       "<div>\n",
       "<style scoped>\n",
       "    .dataframe tbody tr th:only-of-type {\n",
       "        vertical-align: middle;\n",
       "    }\n",
       "\n",
       "    .dataframe tbody tr th {\n",
       "        vertical-align: top;\n",
       "    }\n",
       "\n",
       "    .dataframe thead th {\n",
       "        text-align: right;\n",
       "    }\n",
       "</style>\n",
       "<table border=\"1\" class=\"dataframe\">\n",
       "  <thead>\n",
       "    <tr style=\"text-align: right;\">\n",
       "      <th></th>\n",
       "      <th>merchant</th>\n",
       "      <th>category</th>\n",
       "      <th>amt</th>\n",
       "      <th>gender</th>\n",
       "      <th>lat</th>\n",
       "      <th>long</th>\n",
       "      <th>city_pop</th>\n",
       "      <th>job</th>\n",
       "      <th>unix_time</th>\n",
       "      <th>merch_lat</th>\n",
       "      <th>merch_long</th>\n",
       "      <th>is_fraud</th>\n",
       "    </tr>\n",
       "  </thead>\n",
       "  <tbody>\n",
       "    <tr>\n",
       "      <th>445543</th>\n",
       "      <td>fraud_Kutch-Ferry</td>\n",
       "      <td>home</td>\n",
       "      <td>14.10</td>\n",
       "      <td>F</td>\n",
       "      <td>36.2201</td>\n",
       "      <td>-91.6421</td>\n",
       "      <td>2856</td>\n",
       "      <td>Hydrologist</td>\n",
       "      <td>1386433726</td>\n",
       "      <td>36.665521</td>\n",
       "      <td>-91.402275</td>\n",
       "      <td>0</td>\n",
       "    </tr>\n",
       "    <tr>\n",
       "      <th>111272</th>\n",
       "      <td>fraud_Daugherty, Pouros and Beahan</td>\n",
       "      <td>shopping_pos</td>\n",
       "      <td>50.69</td>\n",
       "      <td>F</td>\n",
       "      <td>33.6773</td>\n",
       "      <td>-118.0051</td>\n",
       "      <td>190249</td>\n",
       "      <td>Therapist, horticultural</td>\n",
       "      <td>1375129437</td>\n",
       "      <td>34.253740</td>\n",
       "      <td>-118.243118</td>\n",
       "      <td>0</td>\n",
       "    </tr>\n",
       "    <tr>\n",
       "      <th>73242</th>\n",
       "      <td>fraud_Kihn Inc</td>\n",
       "      <td>shopping_pos</td>\n",
       "      <td>123.00</td>\n",
       "      <td>M</td>\n",
       "      <td>44.6400</td>\n",
       "      <td>-73.3113</td>\n",
       "      <td>1654</td>\n",
       "      <td>Transport planner</td>\n",
       "      <td>1373996025</td>\n",
       "      <td>43.876827</td>\n",
       "      <td>-73.125533</td>\n",
       "      <td>0</td>\n",
       "    </tr>\n",
       "    <tr>\n",
       "      <th>290175</th>\n",
       "      <td>fraud_Botsford Ltd</td>\n",
       "      <td>shopping_pos</td>\n",
       "      <td>124.73</td>\n",
       "      <td>M</td>\n",
       "      <td>42.1890</td>\n",
       "      <td>-74.9229</td>\n",
       "      <td>782</td>\n",
       "      <td>Chartered accountant</td>\n",
       "      <td>1381187658</td>\n",
       "      <td>42.370808</td>\n",
       "      <td>-75.357586</td>\n",
       "      <td>0</td>\n",
       "    </tr>\n",
       "    <tr>\n",
       "      <th>402416</th>\n",
       "      <td>fraud_Haley, Jewess and Bechtelar</td>\n",
       "      <td>shopping_pos</td>\n",
       "      <td>131.71</td>\n",
       "      <td>M</td>\n",
       "      <td>42.4069</td>\n",
       "      <td>-74.1528</td>\n",
       "      <td>277</td>\n",
       "      <td>Glass blower/designer</td>\n",
       "      <td>1385470763</td>\n",
       "      <td>42.292943</td>\n",
       "      <td>-73.225812</td>\n",
       "      <td>0</td>\n",
       "    </tr>\n",
       "    <tr>\n",
       "      <th>...</th>\n",
       "      <td>...</td>\n",
       "      <td>...</td>\n",
       "      <td>...</td>\n",
       "      <td>...</td>\n",
       "      <td>...</td>\n",
       "      <td>...</td>\n",
       "      <td>...</td>\n",
       "      <td>...</td>\n",
       "      <td>...</td>\n",
       "      <td>...</td>\n",
       "      <td>...</td>\n",
       "      <td>...</td>\n",
       "    </tr>\n",
       "    <tr>\n",
       "      <th>517197</th>\n",
       "      <td>fraud_Willms, Kris and Bergnaum</td>\n",
       "      <td>shopping_pos</td>\n",
       "      <td>1041.51</td>\n",
       "      <td>M</td>\n",
       "      <td>34.6323</td>\n",
       "      <td>-89.8855</td>\n",
       "      <td>14462</td>\n",
       "      <td>Database administrator</td>\n",
       "      <td>1387749948</td>\n",
       "      <td>34.573471</td>\n",
       "      <td>-89.911011</td>\n",
       "      <td>1</td>\n",
       "    </tr>\n",
       "    <tr>\n",
       "      <th>517274</th>\n",
       "      <td>fraud_Kuhn LLC</td>\n",
       "      <td>shopping_pos</td>\n",
       "      <td>868.09</td>\n",
       "      <td>M</td>\n",
       "      <td>34.6323</td>\n",
       "      <td>-89.8855</td>\n",
       "      <td>14462</td>\n",
       "      <td>Database administrator</td>\n",
       "      <td>1387750687</td>\n",
       "      <td>34.091227</td>\n",
       "      <td>-90.390612</td>\n",
       "      <td>1</td>\n",
       "    </tr>\n",
       "    <tr>\n",
       "      <th>517341</th>\n",
       "      <td>fraud_Mosciski, Ziemann and Farrell</td>\n",
       "      <td>shopping_net</td>\n",
       "      <td>1039.42</td>\n",
       "      <td>M</td>\n",
       "      <td>34.6323</td>\n",
       "      <td>-89.8855</td>\n",
       "      <td>14462</td>\n",
       "      <td>Database administrator</td>\n",
       "      <td>1387751508</td>\n",
       "      <td>34.628434</td>\n",
       "      <td>-90.284780</td>\n",
       "      <td>1</td>\n",
       "    </tr>\n",
       "    <tr>\n",
       "      <th>517529</th>\n",
       "      <td>fraud_Bauch-Raynor</td>\n",
       "      <td>grocery_pos</td>\n",
       "      <td>289.27</td>\n",
       "      <td>M</td>\n",
       "      <td>34.6323</td>\n",
       "      <td>-89.8855</td>\n",
       "      <td>14462</td>\n",
       "      <td>Database administrator</td>\n",
       "      <td>1387753563</td>\n",
       "      <td>34.746063</td>\n",
       "      <td>-90.401093</td>\n",
       "      <td>1</td>\n",
       "    </tr>\n",
       "    <tr>\n",
       "      <th>517571</th>\n",
       "      <td>fraud_Jaskolski-Vandervort</td>\n",
       "      <td>misc_net</td>\n",
       "      <td>766.38</td>\n",
       "      <td>M</td>\n",
       "      <td>34.6323</td>\n",
       "      <td>-89.8855</td>\n",
       "      <td>14462</td>\n",
       "      <td>Database administrator</td>\n",
       "      <td>1387754019</td>\n",
       "      <td>33.771462</td>\n",
       "      <td>-90.651342</td>\n",
       "      <td>1</td>\n",
       "    </tr>\n",
       "  </tbody>\n",
       "</table>\n",
       "<p>4290 rows × 12 columns</p>\n",
       "</div>"
      ],
      "text/plain": [
       "                                   merchant      category      amt gender  \\\n",
       "445543                    fraud_Kutch-Ferry          home    14.10      F   \n",
       "111272   fraud_Daugherty, Pouros and Beahan  shopping_pos    50.69      F   \n",
       "73242                        fraud_Kihn Inc  shopping_pos   123.00      M   \n",
       "290175                   fraud_Botsford Ltd  shopping_pos   124.73      M   \n",
       "402416    fraud_Haley, Jewess and Bechtelar  shopping_pos   131.71      M   \n",
       "...                                     ...           ...      ...    ...   \n",
       "517197      fraud_Willms, Kris and Bergnaum  shopping_pos  1041.51      M   \n",
       "517274                       fraud_Kuhn LLC  shopping_pos   868.09      M   \n",
       "517341  fraud_Mosciski, Ziemann and Farrell  shopping_net  1039.42      M   \n",
       "517529                   fraud_Bauch-Raynor   grocery_pos   289.27      M   \n",
       "517571           fraud_Jaskolski-Vandervort      misc_net   766.38      M   \n",
       "\n",
       "            lat      long  city_pop                       job   unix_time  \\\n",
       "445543  36.2201  -91.6421      2856               Hydrologist  1386433726   \n",
       "111272  33.6773 -118.0051    190249  Therapist, horticultural  1375129437   \n",
       "73242   44.6400  -73.3113      1654         Transport planner  1373996025   \n",
       "290175  42.1890  -74.9229       782      Chartered accountant  1381187658   \n",
       "402416  42.4069  -74.1528       277     Glass blower/designer  1385470763   \n",
       "...         ...       ...       ...                       ...         ...   \n",
       "517197  34.6323  -89.8855     14462    Database administrator  1387749948   \n",
       "517274  34.6323  -89.8855     14462    Database administrator  1387750687   \n",
       "517341  34.6323  -89.8855     14462    Database administrator  1387751508   \n",
       "517529  34.6323  -89.8855     14462    Database administrator  1387753563   \n",
       "517571  34.6323  -89.8855     14462    Database administrator  1387754019   \n",
       "\n",
       "        merch_lat  merch_long  is_fraud  \n",
       "445543  36.665521  -91.402275         0  \n",
       "111272  34.253740 -118.243118         0  \n",
       "73242   43.876827  -73.125533         0  \n",
       "290175  42.370808  -75.357586         0  \n",
       "402416  42.292943  -73.225812         0  \n",
       "...           ...         ...       ...  \n",
       "517197  34.573471  -89.911011         1  \n",
       "517274  34.091227  -90.390612         1  \n",
       "517341  34.628434  -90.284780         1  \n",
       "517529  34.746063  -90.401093         1  \n",
       "517571  33.771462  -90.651342         1  \n",
       "\n",
       "[4290 rows x 12 columns]"
      ]
     },
     "execution_count": 36,
     "metadata": {},
     "output_type": "execute_result"
    }
   ],
   "source": [
    "#Clean Data from unusseful columns\n",
    "\n",
    "balanced_dataset.drop(columns=['Unnamed: 0','cc_num','first', 'last', 'street', 'city', 'state', 'zip', 'dob', 'trans_num','trans_date_trans_time'],inplace=True)\n",
    "balanced_dataset"
   ]
  },
  {
   "cell_type": "markdown",
   "metadata": {},
   "source": [
    "### Processing data"
   ]
  },
  {
   "cell_type": "code",
   "execution_count": 37,
   "metadata": {},
   "outputs": [],
   "source": [
    "#Tranform important data to numeric values\n",
    "encoder = LabelEncoder()\n",
    "categorical_columns = ['merchant', 'category', 'gender', 'job']\n",
    "for col in categorical_columns:\n",
    "    balanced_dataset[col] = encoder.fit_transform(balanced_dataset[col])"
   ]
  },
  {
   "cell_type": "code",
   "execution_count": 38,
   "metadata": {},
   "outputs": [],
   "source": [
    "#Devide data \n",
    "X = balanced_dataset.drop(columns=['is_fraud'])\n",
    "y = balanced_dataset['is_fraud']"
   ]
  },
  {
   "cell_type": "code",
   "execution_count": 39,
   "metadata": {},
   "outputs": [],
   "source": [
    "#Scale the data\n",
    "scaler = StandardScaler()\n",
    "X_scaled = scaler.fit_transform(X)"
   ]
  },
  {
   "cell_type": "code",
   "execution_count": 40,
   "metadata": {},
   "outputs": [],
   "source": [
    "X_train,X_test,y_train,y_test=train_test_split(X_scaled,y,test_size=0.3,random_state=42,stratify=y)"
   ]
  },
  {
   "cell_type": "code",
   "execution_count": 41,
   "metadata": {},
   "outputs": [],
   "source": [
    "def evaluate_model(model,X_train,y_train,X_test,y_test):\n",
    "    model.fit(X_train,y_train)\n",
    "    y_pred=model.predict(X_test)\n",
    "    y_prob=model.predict_proba(X_test)[:,1] if hasattr(model,\"predict_proba\") else None\n",
    "\n",
    "    # Evaluation for different arhitecture models(Regresion,XGBOOST,Decision Tree)\n",
    "    print(\"\\nClassification Report:\")\n",
    "    print(classification_report(y_test, y_pred))\n",
    "    \n",
    "    if y_prob is not None:\n",
    "        auc_score = roc_auc_score(y_test, y_prob)\n",
    "        print(f\"AUC-ROC Score: {auc_score:.4f}\")\n",
    "    \n",
    "    # Confusion Matrix\n",
    "    cm = confusion_matrix(y_test, y_pred)\n",
    "    ConfusionMatrixDisplay(cm, display_labels=['Not Fraud', 'Fraud']).plot(cmap='Blues')\n",
    "    plt.title(f\"Confusion Matrix for {model.__class__.__name__}\")\n",
    "    plt.show()"
   ]
  },
  {
   "cell_type": "markdown",
   "metadata": {},
   "source": [
    "## Logistic Regression"
   ]
  },
  {
   "cell_type": "code",
   "execution_count": 42,
   "metadata": {},
   "outputs": [
    {
     "name": "stdout",
     "output_type": "stream",
     "text": [
      "\n",
      "Evaluating Logistic Regression...\n",
      "\n",
      "Classification Report:\n",
      "              precision    recall  f1-score   support\n",
      "\n",
      "           0       0.79      0.93      0.85       644\n",
      "           1       0.91      0.75      0.82       643\n",
      "\n",
      "    accuracy                           0.84      1287\n",
      "   macro avg       0.85      0.84      0.84      1287\n",
      "weighted avg       0.85      0.84      0.84      1287\n",
      "\n",
      "AUC-ROC Score: 0.8480\n"
     ]
    },
    {
     "data": {
      "image/png": "[encoded data removed]",
      "text/plain": [
       "<Figure size 640x480 with 2 Axes>"
      ]
     },
     "metadata": {},
     "output_type": "display_data"
    }
   ],
   "source": [
    "log_reg = LogisticRegression(class_weight='balanced', random_state=42)\n",
    "print(\"\\nEvaluating Logistic Regression...\")\n",
    "evaluate_model(log_reg, X_train, y_train, X_test, y_test)"
   ]
  },
  {
   "cell_type": "markdown",
   "metadata": {},
   "source": [
    "## Decision Tree "
   ]
  },
  {
   "cell_type": "code",
   "execution_count": 43,
   "metadata": {},
   "outputs": [
    {
     "name": "stdout",
     "output_type": "stream",
     "text": [
      "\n",
      "Evaluating Decision Tree...\n",
      "\n",
      "Classification Report:\n",
      "              precision    recall  f1-score   support\n",
      "\n",
      "           0       0.93      0.91      0.92       644\n",
      "           1       0.91      0.93      0.92       643\n",
      "\n",
      "    accuracy                           0.92      1287\n",
      "   macro avg       0.92      0.92      0.92      1287\n",
      "weighted avg       0.92      0.92      0.92      1287\n",
      "\n",
      "AUC-ROC Score: 0.9631\n"
     ]
    },
    {
     "data": {
      "image/png": "[encoded data removed]",
      "text/plain": [
       "<Figure size 640x480 with 2 Axes>"
      ]
     },
     "metadata": {},
     "output_type": "display_data"
    }
   ],
   "source": [
    "decision_tree = DecisionTreeClassifier(max_depth=5, random_state=42, class_weight='balanced')\n",
    "print(\"\\nEvaluating Decision Tree...\")\n",
    "evaluate_model(decision_tree, X_train, y_train, X_test, y_test)"
   ]
  },
  {
   "cell_type": "markdown",
   "metadata": {},
   "source": [
    "## XGBoost"
   ]
  },
  {
   "cell_type": "code",
   "execution_count": 44,
   "metadata": {},
   "outputs": [
    {
     "name": "stdout",
     "output_type": "stream",
     "text": [
      "\n",
      "Evaluating XGBoost...\n",
      "\n",
      "Classification Report:\n",
      "              precision    recall  f1-score   support\n",
      "\n",
      "           0       0.98      0.95      0.96       644\n",
      "           1       0.95      0.98      0.97       643\n",
      "\n",
      "    accuracy                           0.97      1287\n",
      "   macro avg       0.97      0.97      0.97      1287\n",
      "weighted avg       0.97      0.97      0.97      1287\n",
      "\n",
      "AUC-ROC Score: 0.9920\n"
     ]
    },
    {
     "name": "stderr",
     "output_type": "stream",
     "text": [
      "d:\\Machine_Learning\\Project_Sigmoid\\.venv\\Lib\\site-packages\\xgboost\\core.py:158: UserWarning: [18:06:20] WARNING: C:\\buildkite-agent\\builds\\buildkite-windows-cpu-autoscaling-group-i-0c55ff5f71b100e98-1\\xgboost\\xgboost-ci-windows\\src\\learner.cc:740: \n",
      "Parameters: { \"use_label_encoder\" } are not used.\n",
      "\n",
      "  warnings.warn(smsg, UserWarning)\n"
     ]
    },
    {
     "data": {
      "image/png": "[encoded data removed]",
      "text/plain": [
       "<Figure size 640x480 with 2 Axes>"
      ]
     },
     "metadata": {},
     "output_type": "display_data"
    }
   ],
   "source": [
    "xgb_model = XGBClassifier(use_label_encoder=False, eval_metric='logloss', random_state=42)\n",
    "print(\"\\nEvaluating XGBoost...\")\n",
    "evaluate_model(xgb_model, X_train, y_train, X_test, y_test)"
   ]
  }
 ],
 "metadata": {
  "kernelspec": {
   "display_name": ".venv",
   "language": "python",
   "name": "python3"
  },
  "language_info": {
   "codemirror_mode": {
    "name": "ipython",
    "version": 3
   },
   "file_extension": ".py",
   "mimetype": "text/x-python",
   "name": "python",
   "nbconvert_exporter": "python",
   "pygments_lexer": "ipython3",
   "version": "3.11.8"
  }
 },
 "nbformat": 4,
 "nbformat_minor": 2
}
